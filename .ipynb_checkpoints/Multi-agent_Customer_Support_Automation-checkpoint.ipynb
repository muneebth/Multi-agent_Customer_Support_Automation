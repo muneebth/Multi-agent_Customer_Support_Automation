{
 "cells": [
  {
   "cell_type": "markdown",
   "id": "d383bf6a",
   "metadata": {},
   "source": [
    "#  Multi-agent Customer Support Automation For Kerala Tourism\n",
    "\n",
    "## Introduction to crewAI for Article Writing\n",
    "\n",
    "In this notebook, we'll explore how to use the crewAI framework to create a multi-agent system for researching, writing, and proofreading an article. We'll create three agents: a Planner, a Writer, and an Editor, each with specific tasks\n",
    "\n",
    "## Import necessary libraries\n",
    "\n",
    "!pip install crewai==0.28.8 crewai_tools==0.1.6 langchain_community==0.0.29"
   ]
  },
  {
   "cell_type": "code",
   "execution_count": 1,
   "id": "9fa84142",
   "metadata": {},
   "outputs": [],
   "source": [
    "# Warning control\n",
    "import warnings\n",
    "warnings.filterwarnings('ignore')"
   ]
  },
  {
   "cell_type": "markdown",
   "id": "e8b18877",
   "metadata": {},
   "source": [
    "## Import from crewAI library\n"
   ]
  },
  {
   "cell_type": "code",
   "execution_count": 2,
   "id": "5557cfa0",
   "metadata": {},
   "outputs": [],
   "source": [
    "from crewai import Agent, Task, Crew"
   ]
  },
  {
   "cell_type": "markdown",
   "id": "27876557",
   "metadata": {},
   "source": [
    "## Import other necessary libraries"
   ]
  },
  {
   "cell_type": "code",
   "execution_count": 3,
   "id": "8d9b371c",
   "metadata": {},
   "outputs": [],
   "source": [
    "import os\n",
    "from langchain.llms import OpenAI"
   ]
  },
  {
   "cell_type": "markdown",
   "id": "fc89bdc0",
   "metadata": {},
   "source": [
    "## Setup OpenAI key"
   ]
  },
  {
   "cell_type": "code",
   "execution_count": 4,
   "id": "58af7e7f",
   "metadata": {},
   "outputs": [],
   "source": [
    "from dotenv import load_dotenv, find_dotenv\n",
    "_ = load_dotenv(find_dotenv())\n",
    "openai_api_key = os.environ[\"OPENAI_API_KEY\"]"
   ]
  },
  {
   "cell_type": "markdown",
   "id": "bb8f2d89",
   "metadata": {},
   "source": [
    "## Define Agents\n",
    "\n",
    "# Planner Agent"
   ]
  },
  {
   "cell_type": "code",
   "execution_count": 5,
   "id": "180f7fbd",
   "metadata": {},
   "outputs": [],
   "source": [
    "planner = Agent(\n",
    "    role='Planner',\n",
    "    goal='Create a detailed outline for the article on a {topic}',\n",
    "    backstory='You are an experienced content strategist with a knack for organizing information effectively.',\n",
    "    allow_delegation=False,\n",
    "    verbose=True\n",
    ")\n"
   ]
  },
  {
   "cell_type": "markdown",
   "id": "1f3ef54e",
   "metadata": {},
   "source": [
    "# Writer Agent"
   ]
  },
  {
   "cell_type": "code",
   "execution_count": 6,
   "id": "88ded521",
   "metadata": {},
   "outputs": [],
   "source": [
    "writer = Agent(\n",
    "    role='Writer',\n",
    "    goal='Write a compelling article based on the provided outline by the planner about the  {topic}',\n",
    "    backstory='You are a skilled writer with expertise in creating engaging and informative content.',\n",
    "    allow_delegation=False,\n",
    "    verbose=True\n",
    ")\n"
   ]
  },
  {
   "cell_type": "markdown",
   "id": "5e2339a3",
   "metadata": {},
   "source": [
    "# Editor Agent"
   ]
  },
  {
   "cell_type": "code",
   "execution_count": 7,
   "id": "b9c6cbad",
   "metadata": {},
   "outputs": [],
   "source": [
    "editor = Agent(\n",
    "    role='Editor',\n",
    "    goal='Proofread and refine the article for clarity, coherence, and style',\n",
    "    backstory='You are a meticulous editor with a keen eye for detail and a mastery of language.',\n",
    "    allow_delegation=False,\n",
    "    verbose=True\n",
    ")\n"
   ]
  },
  {
   "cell_type": "markdown",
   "id": "e6bec1b9",
   "metadata": {},
   "source": [
    "## Define Tasks\n",
    "\n",
    "# Planning Task"
   ]
  },
  {
   "cell_type": "code",
   "execution_count": 8,
   "id": "cd295846",
   "metadata": {},
   "outputs": [],
   "source": [
    "plan_task = Task(\n",
    "    description='Create a detailed outline for the article on {topic}',\n",
    "    agent=planner,\n",
    "    expected_output='A detailed outline for the article'\n",
    ")"
   ]
  },
  {
   "cell_type": "markdown",
   "id": "2b04366b",
   "metadata": {},
   "source": [
    "# Writing Task"
   ]
  },
  {
   "cell_type": "code",
   "execution_count": 9,
   "id": "d30e9ef4",
   "metadata": {},
   "outputs": [],
   "source": [
    "write_task = Task(\n",
    "    description='Write a comprehensive article based on the provided outline',\n",
    "    agent=writer,\n",
    "    expected_output='A well-written article'\n",
    ")\n"
   ]
  },
  {
   "cell_type": "markdown",
   "id": "dfbadb86",
   "metadata": {},
   "source": [
    "# Editing Task"
   ]
  },
  {
   "cell_type": "code",
   "execution_count": 10,
   "id": "5120dacf",
   "metadata": {},
   "outputs": [],
   "source": [
    "edit_task = Task(\n",
    "    description='Proofread and refine the article, focusing on clarity, coherence, and style',\n",
    "    agent=editor,\n",
    "    expected_output='A polished and refined article'\n",
    ")"
   ]
  },
  {
   "cell_type": "markdown",
   "id": "a8b771b7",
   "metadata": {},
   "source": [
    "## Create and Run the Crew"
   ]
  },
  {
   "cell_type": "code",
   "execution_count": 11,
   "id": "9f49553e",
   "metadata": {},
   "outputs": [],
   "source": [
    "article_crew = Crew(\n",
    "    agents=[planner, writer, editor],\n",
    "    tasks=[plan_task, write_task, edit_task],\n",
    "    verbose=2\n",
    ")"
   ]
  },
  {
   "cell_type": "code",
   "execution_count": null,
   "id": "3f63f7c5",
   "metadata": {},
   "outputs": [
    {
     "name": "stdout",
     "output_type": "stream",
     "text": [
      "\u001b[1m\u001b[95m [DEBUG]: == Working Agent: Planner\u001b[00m\n",
      "\u001b[1m\u001b[95m [INFO]: == Starting Task: Create a detailed outline for the article on Artificial Intelligence\u001b[00m\n",
      "\n",
      "\n",
      "\u001b[1m> Entering new CrewAgentExecutor chain...\u001b[0m\n",
      "\u001b[32;1m\u001b[1;3mI now can give a great answer\n",
      "\n",
      "Final Answer: \n",
      "\n",
      "I. Introduction\n",
      "    A. Definition of Artificial Intelligence (AI)\n",
      "    B. Brief overview of AI history\n",
      "    C. Importance and relevance of AI in today's world\n",
      "\n",
      "II. Understanding Artificial Intelligence\n",
      "    A. Explanation of how AI works\n",
      "        1. Machine learning\n",
      "        2. Deep learning\n",
      "        3. Neural networks\n",
      "    B. Different types of AI: \n",
      "        1. Narrow AI\n",
      "        2. General AI\n",
      "        3. Superintelligent AI\n",
      "    C. Importance of data in AI\n",
      "\n",
      "III. Applications of Artificial Intelligence\n",
      "    A. AI in everyday life\n",
      "        1. Personal assistants \n",
      "        2. Recommendation systems\n",
      "    B. AI in business\n",
      "        1. Automation\n",
      "        2. Predictive analytics\n",
      "    C. AI in healthcare\n",
      "        1. Predictive diagnostics\n",
      "        2. Robot-assisted surgery\n",
      "    D. AI in transportation\n",
      "        1. Autonomous vehicles\n",
      "        2. Traffic management\n",
      "\n",
      "IV. Ethical Considerations in Artificial Intelligence\n",
      "    A. AI and job displacement\n",
      "    B. Privacy concerns with AI\n",
      "    C. Bias in AI algorithms\n",
      "    D. Regulation of AI\n",
      "\n",
      "V. Future of Artificial Intelligence\n",
      "    A. Upcoming trends in AI\n",
      "    B. Role of AI in solving global challenges\n",
      "    C. Potential risks and challenges\n",
      "\n",
      "VI. Conclusion\n",
      "    A. Recap of the importance and impact of AI\n",
      "    B. Call to action for further research and discussion on AI\n",
      "\n",
      "This detailed outline allows for a comprehensive exploration of the topic of Artificial Intelligence, ensuring that the article will be both informative and engaging.\u001b[0m\n",
      "\n",
      "\u001b[1m> Finished chain.\u001b[0m\n",
      "\u001b[1m\u001b[92m [DEBUG]: == [Planner] Task output: I. Introduction\n",
      "    A. Definition of Artificial Intelligence (AI)\n",
      "    B. Brief overview of AI history\n",
      "    C. Importance and relevance of AI in today's world\n",
      "\n",
      "II. Understanding Artificial Intelligence\n",
      "    A. Explanation of how AI works\n",
      "        1. Machine learning\n",
      "        2. Deep learning\n",
      "        3. Neural networks\n",
      "    B. Different types of AI: \n",
      "        1. Narrow AI\n",
      "        2. General AI\n",
      "        3. Superintelligent AI\n",
      "    C. Importance of data in AI\n",
      "\n",
      "III. Applications of Artificial Intelligence\n",
      "    A. AI in everyday life\n",
      "        1. Personal assistants \n",
      "        2. Recommendation systems\n",
      "    B. AI in business\n",
      "        1. Automation\n",
      "        2. Predictive analytics\n",
      "    C. AI in healthcare\n",
      "        1. Predictive diagnostics\n",
      "        2. Robot-assisted surgery\n",
      "    D. AI in transportation\n",
      "        1. Autonomous vehicles\n",
      "        2. Traffic management\n",
      "\n",
      "IV. Ethical Considerations in Artificial Intelligence\n",
      "    A. AI and job displacement\n",
      "    B. Privacy concerns with AI\n",
      "    C. Bias in AI algorithms\n",
      "    D. Regulation of AI\n",
      "\n",
      "V. Future of Artificial Intelligence\n",
      "    A. Upcoming trends in AI\n",
      "    B. Role of AI in solving global challenges\n",
      "    C. Potential risks and challenges\n",
      "\n",
      "VI. Conclusion\n",
      "    A. Recap of the importance and impact of AI\n",
      "    B. Call to action for further research and discussion on AI\n",
      "\n",
      "This detailed outline allows for a comprehensive exploration of the topic of Artificial Intelligence, ensuring that the article will be both informative and engaging.\n",
      "\n",
      "\u001b[00m\n",
      "\u001b[1m\u001b[95m [DEBUG]: == Working Agent: Writer\u001b[00m\n",
      "\u001b[1m\u001b[95m [INFO]: == Starting Task: Write a comprehensive article based on the provided outline\u001b[00m\n",
      "\n",
      "\n",
      "\u001b[1m> Entering new CrewAgentExecutor chain...\u001b[0m\n",
      "\u001b[32;1m\u001b[1;3mI now can give a great answer.\n",
      "\n",
      "Final Answer:\n",
      "\n",
      "Artificial Intelligence: A Comprehensive Overview\n",
      "\n",
      "I. Introduction\n",
      "\n",
      "Artificial Intelligence (AI) is a branch of computer science that aims to create intelligent machines capable of performing tasks that typically require human intellect. These tasks include problem-solving, recognizing speech, and learning, among others. The concept of AI is not a recent one; it can be traced back to ancient history, where automatons were created to mimic human actions. However, AI as we understand it today started in the mid-20th century with the development of programmable digital computers. In today's digital age, AI has become increasingly relevant due to its vast potential to revolutionize various sectors, from healthcare to transportation.\n",
      "\n",
      "II. Understanding Artificial Intelligence\n",
      "\n",
      "At its core, AI is about creating machines that can think, learn, and adapt. This is achieved through machine learning, deep learning, and neural networks. Machine learning is a subset of AI, where machines learn from experience. Deep learning, another subset, uses artificial neural networks with several layers (hence the 'deep' in deep learning) to model and understand complex patterns. Neural networks are computing systems inspired by the human brain's neural networks, and they form the backbone of AI technology.\n",
      "\n",
      "AI can be categorized into three types: Narrow AI, which is designed to perform specific tasks (like voice recognition); General AI, which can perform any intellectual task that a human can; and Superintelligent AI, which surpasses human intelligence and can perform tasks that humans may not be capable of. Data is critical in AI, as AI systems learn and improve by processing and analyzing vast amounts of data.\n",
      "\n",
      "III. Applications of Artificial Intelligence\n",
      "\n",
      "AI has permeated our everyday lives, often without us realizing it. Personal assistants like Siri and Alexa use AI to understand and respond to our commands. Recommendation systems on platforms like Netflix and Amazon use AI to analyze our preferences and suggest products or shows we might like.\n",
      "\n",
      "Businesses are also leveraging AI for automation and predictive analytics, increasing efficiency and enabling better decision-making. In healthcare, AI is used for predictive diagnostics and even robot-assisted surgery, enhancing accuracy and patient outcomes. In transportation, AI powers autonomous vehicles and helps in traffic management, improving safety and efficiency.\n",
      "\n",
      "IV. Ethical Considerations in Artificial Intelligence\n",
      "\n",
      "While AI holds vast potential, it also raises several ethical issues. One significant concern is job displacement due to automation. Privacy is another issue, as AI systems often need large amounts of personal data to function effectively. Bias in AI algorithms can also lead to unfair outcomes or discrimination. Thus, there is a growing call for the regulation of AI to address these ethical concerns.\n",
      "\n",
      "V. Future of Artificial Intelligence\n",
      "\n",
      "The future of AI is promising and holds exciting possibilities. Upcoming trends include the increasing use of AI in quantum computing, cybersecurity, and more. AI could also play a pivotal role in solving global challenges like climate change and pandemics. However, potential risks and challenges, such as the misuse of AI technology, need to be addressed.\n",
      "\n",
      "VI. Conclusion\n",
      "\n",
      "Artificial Intelligence, with its ability to mimic human intelligence and learn from experience, has become a significant part of our lives. It has vast potential to revolutionize various sectors while also posing ethical challenges that need addressing. As we continue to explore and develop this technology, further research and discussion on its implications are crucial. The future of AI is not just about technological advancement; it is about shaping a future where technology and humanity coexist harmoniously.\u001b[0m\n",
      "\n",
      "\u001b[1m> Finished chain.\u001b[0m\n",
      "\u001b[1m\u001b[92m [DEBUG]: == [Writer] Task output: Artificial Intelligence: A Comprehensive Overview\n",
      "\n",
      "I. Introduction\n",
      "\n",
      "Artificial Intelligence (AI) is a branch of computer science that aims to create intelligent machines capable of performing tasks that typically require human intellect. These tasks include problem-solving, recognizing speech, and learning, among others. The concept of AI is not a recent one; it can be traced back to ancient history, where automatons were created to mimic human actions. However, AI as we understand it today started in the mid-20th century with the development of programmable digital computers. In today's digital age, AI has become increasingly relevant due to its vast potential to revolutionize various sectors, from healthcare to transportation.\n",
      "\n",
      "II. Understanding Artificial Intelligence\n",
      "\n",
      "At its core, AI is about creating machines that can think, learn, and adapt. This is achieved through machine learning, deep learning, and neural networks. Machine learning is a subset of AI, where machines learn from experience. Deep learning, another subset, uses artificial neural networks with several layers (hence the 'deep' in deep learning) to model and understand complex patterns. Neural networks are computing systems inspired by the human brain's neural networks, and they form the backbone of AI technology.\n",
      "\n",
      "AI can be categorized into three types: Narrow AI, which is designed to perform specific tasks (like voice recognition); General AI, which can perform any intellectual task that a human can; and Superintelligent AI, which surpasses human intelligence and can perform tasks that humans may not be capable of. Data is critical in AI, as AI systems learn and improve by processing and analyzing vast amounts of data.\n",
      "\n",
      "III. Applications of Artificial Intelligence\n",
      "\n",
      "AI has permeated our everyday lives, often without us realizing it. Personal assistants like Siri and Alexa use AI to understand and respond to our commands. Recommendation systems on platforms like Netflix and Amazon use AI to analyze our preferences and suggest products or shows we might like.\n",
      "\n",
      "Businesses are also leveraging AI for automation and predictive analytics, increasing efficiency and enabling better decision-making. In healthcare, AI is used for predictive diagnostics and even robot-assisted surgery, enhancing accuracy and patient outcomes. In transportation, AI powers autonomous vehicles and helps in traffic management, improving safety and efficiency.\n",
      "\n",
      "IV. Ethical Considerations in Artificial Intelligence\n",
      "\n",
      "While AI holds vast potential, it also raises several ethical issues. One significant concern is job displacement due to automation. Privacy is another issue, as AI systems often need large amounts of personal data to function effectively. Bias in AI algorithms can also lead to unfair outcomes or discrimination. Thus, there is a growing call for the regulation of AI to address these ethical concerns.\n",
      "\n",
      "V. Future of Artificial Intelligence\n",
      "\n",
      "The future of AI is promising and holds exciting possibilities. Upcoming trends include the increasing use of AI in quantum computing, cybersecurity, and more. AI could also play a pivotal role in solving global challenges like climate change and pandemics. However, potential risks and challenges, such as the misuse of AI technology, need to be addressed.\n",
      "\n",
      "VI. Conclusion\n",
      "\n",
      "Artificial Intelligence, with its ability to mimic human intelligence and learn from experience, has become a significant part of our lives. It has vast potential to revolutionize various sectors while also posing ethical challenges that need addressing. As we continue to explore and develop this technology, further research and discussion on its implications are crucial. The future of AI is not just about technological advancement; it is about shaping a future where technology and humanity coexist harmoniously.\n",
      "\n",
      "\u001b[00m\n",
      "\u001b[1m\u001b[95m [DEBUG]: == Working Agent: Editor\u001b[00m\n",
      "\u001b[1m\u001b[95m [INFO]: == Starting Task: Proofread and refine the article, focusing on clarity, coherence, and style\u001b[00m\n",
      "\n",
      "\n",
      "\u001b[1m> Entering new CrewAgentExecutor chain...\u001b[0m\n"
     ]
    }
   ],
   "source": [
    "result = article_crew.kickoff(inputs={\"topic\": \"Artificial Intelligence\"})"
   ]
  },
  {
   "cell_type": "code",
   "execution_count": 17,
   "id": "5915d313",
   "metadata": {},
   "outputs": [
    {
     "name": "stdout",
     "output_type": "stream",
     "text": [
      "The Influence of Artificial Intelligence on Contemporary Society\n",
      "\n",
      "Artificial Intelligence (AI) has become a pivotal aspect of modern society, deeply ingrained in various sectors from healthcare to finance. Its impact is far-reaching and transformative, reshaping societal norms and expectations.\n",
      "\n",
      "In the healthcare sector, AI is revolutionizing patient care and medical research. Machine learning algorithms can analyze vast amounts of data, predicting disease progression and optimizing treatment plans. Moreover, AI is allowing for the personalization of medicine, tailoring treatments to the individual patients’ genetic makeup and lifestyle.\n",
      "\n",
      "In finance, AI is reshaping the industry by automating tasks traditionally performed by humans, enhancing accuracy and efficiency. Robotic Process Automation (RPA) is being used in tasks such as data entry and fraud detection, reducing the possibilities of human error.\n",
      "\n",
      "Despite the benefits, AI also introduces new challenges. Ethical concerns arise as AI decision-making processes can be opaque, leading to bias and discrimination. Moreover, the automation of jobs threatens employment security, necessitating policy interventions and workforce retraining.\n",
      "\n",
      "Given the ever-evolving nature of AI, its influence on society will continue to expand and evolve, hence, understanding its potential and addressing its challenges is vital for stakeholders to harness the benefits of AI and mitigate its risks.\n",
      "\n",
      "This concludes the final proofreading and editing of the article, 'The Influence of Artificial Intelligence on Contemporary Society'.\n"
     ]
    }
   ],
   "source": [
    "print(result)\n"
   ]
  },
  {
   "cell_type": "code",
   "execution_count": null,
   "id": "de835882",
   "metadata": {},
   "outputs": [],
   "source": []
  }
 ],
 "metadata": {
  "kernelspec": {
   "display_name": "genai",
   "language": "python",
   "name": "genai_boot"
  },
  "language_info": {
   "codemirror_mode": {
    "name": "ipython",
    "version": 3
   },
   "file_extension": ".py",
   "mimetype": "text/x-python",
   "name": "python",
   "nbconvert_exporter": "python",
   "pygments_lexer": "ipython3",
   "version": "3.11.4"
  }
 },
 "nbformat": 4,
 "nbformat_minor": 5
}
